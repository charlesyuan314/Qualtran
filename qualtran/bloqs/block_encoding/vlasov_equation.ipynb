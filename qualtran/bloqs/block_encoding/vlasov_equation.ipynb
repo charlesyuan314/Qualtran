{
 "cells": [
  {
   "cell_type": "code",
   "execution_count": 1,
   "metadata": {},
   "outputs": [],
   "source": [
    "import numpy as np\n",
    "import sympy\n",
    "\n",
    "from qualtran.bloqs.block_encoding.sparse_matrix import (\n",
    "    ExplicitEntryOracle,\n",
    "    SymmetricBandedRowColumnOracle,\n",
    "    SparseMatrix,\n",
    ")\n",
    "from qualtran.bloqs.block_encoding.vlasov_equation import VlasovEntryOracle\n",
    "from qualtran.drawing import show_counts_sigma\n",
    "from qualtran.resource_counting.generalizers import ignore_split_join\n",
    "from qualtran.resource_counting.t_counts_from_sigma import t_counts_from_sigma"
   ]
  },
  {
   "cell_type": "code",
   "execution_count": 2,
   "metadata": {},
   "outputs": [],
   "source": [
    "n = sympy.Symbol('n')\n",
    "row_oracle = SymmetricBandedRowColumnOracle(n, bandsize=1)\n",
    "col_oracle = SymmetricBandedRowColumnOracle(n, bandsize=1)\n",
    "entry_oracle = VlasovEntryOracle(n, 7, alpha=0.2)\n",
    "bloq = SparseMatrix(row_oracle, col_oracle, entry_oracle, eps=0)"
   ]
  },
  {
   "cell_type": "code",
   "execution_count": 3,
   "metadata": {},
   "outputs": [
    {
     "data": {
      "text/markdown": [
       "#### Counts totals:\n",
       " - `Allocate`: 1\n",
       " - `Allocate`: 1\n",
       " - `ArbitraryClifford(n=2)`: $\\displaystyle 221 n + 557$\n",
       " - `CNOT`: $\\displaystyle 98 n + 223$\n",
       " - `C[2][TwoBitSwap]`: 14\n",
       " - `C[2][XGate]`: 7\n",
       " - `C[Ry(0.0024867959858108648π)]`: 7\n",
       " - `C[Ry(0.435905783151025π)]`: 1\n",
       " - `C[TwoBitSwap]`: $\\displaystyle n$\n",
       " - `Free`: 1\n",
       " - `Free`: 1\n",
       " - `H`: 12\n",
       " - `Rz(-0.3918265520306073π)`: 2\n",
       " - `Rz(0.3918265520306073π)`: 2\n",
       " - `T`: $\\displaystyle 8716 n - 32 \\left(n - 2\\right) \\left(30 n - 30\\right) - 72 \\left(n - 1\\right)^{2} - 32 \\left(n - 1\\right) \\left(6 n - 12\\right) + 8 \\left\\lceil{480 n - 60 \\left(n - 1\\right)^{2} + 1486.0}\\right\\rceil + 34084$\n",
       " - `TwoBitSwap`: $\\displaystyle n$\n",
       " - `XGate`: $\\displaystyle 10 n + 165$"
      ],
      "text/plain": [
       "<IPython.core.display.Markdown object>"
      ]
     },
     "metadata": {},
     "output_type": "display_data"
    }
   ],
   "source": [
    "g, sigma = bloq.call_graph(generalizer=ignore_split_join)\n",
    "show_counts_sigma(sigma)"
   ]
  },
  {
   "cell_type": "code",
   "execution_count": 4,
   "metadata": {},
   "outputs": [
    {
     "name": "stdout",
     "output_type": "stream",
     "text": [
      "8716*n - 32*(n - 2)*(30*n - 30) - 72*(n - 1)**2 - 32*(n - 1)*(6*n - 12) + 8*ceiling(480*n - 60*(n - 1)**2 + 1486.0) + 34292\n"
     ]
    }
   ],
   "source": [
    "ts = t_counts_from_sigma(sigma)\n",
    "print(ts)"
   ]
  },
  {
   "cell_type": "code",
   "execution_count": 5,
   "metadata": {},
   "outputs": [
    {
     "data": {
      "text/latex": [
       "$\\displaystyle 25416$"
      ],
      "text/plain": [
       "25416"
      ]
     },
     "execution_count": 5,
     "metadata": {},
     "output_type": "execute_result"
    }
   ],
   "source": [
    "ts.subs(n, 11)"
   ]
  },
  {
   "cell_type": "code",
   "execution_count": 6,
   "metadata": {},
   "outputs": [],
   "source": [
    "def gen_vlasov_hamiltonian(n, alpha, m):\n",
    "    data = np.zeros((2**n, 2**n))\n",
    "    data[0][1] = data[1][0] = np.sqrt((1 + alpha) / 2)\n",
    "    for i in range(2, m + 1):\n",
    "        data[i - 1][i] = data[i][i - 1] = np.sqrt(i / 2)\n",
    "    data /= np.max(data)\n",
    "    return data"
   ]
  },
  {
   "cell_type": "code",
   "execution_count": 7,
   "metadata": {},
   "outputs": [],
   "source": [
    "n = 11\n",
    "k = 2\n",
    "alpha = 2 / k**2\n",
    "data = gen_vlasov_hamiltonian(n, alpha, m=(2**n - 1))\n",
    "row_oracle = SymmetricBandedRowColumnOracle(n, bandsize=1)\n",
    "col_oracle = SymmetricBandedRowColumnOracle(n, bandsize=1)\n",
    "entry_oracle = ExplicitEntryOracle(system_bitsize=n, data=data, entry_bitsize=7)\n",
    "bloq = SparseMatrix(row_oracle, col_oracle, entry_oracle, eps=0)"
   ]
  },
  {
   "cell_type": "code",
   "execution_count": 8,
   "metadata": {},
   "outputs": [
    {
     "data": {
      "text/markdown": [
       "#### Counts totals:\n",
       " - `Allocate`: 1\n",
       " - `Allocate`: 1\n",
       " - `Allocate`: 1\n",
       " - `ArbitraryClifford(n=2)`: 860046\n",
       " - `CNOT`: 131200\n",
       " - `C[Ry(0.015625π)]`: 1\n",
       " - `C[Ry(0.03125π)]`: 1\n",
       " - `C[Ry(0.0625π)]`: 1\n",
       " - `C[Ry(0.125π)]`: 1\n",
       " - `C[Ry(0.25π)]`: 1\n",
       " - `C[Ry(0.5π)]`: 1\n",
       " - `C[Ry(π)]`: 1\n",
       " - `Free`: 1\n",
       " - `Free`: 1\n",
       " - `Free`: 1\n",
       " - `H`: 12\n",
       " - `Rz(-0.3918265520306073π)`: 2\n",
       " - `Rz(0.3918265520306073π)`: 2\n",
       " - `T`: 229368\n",
       " - `TwoBitSwap`: 11\n",
       " - `XGate`: 50"
      ],
      "text/plain": [
       "<IPython.core.display.Markdown object>"
      ]
     },
     "metadata": {},
     "output_type": "display_data"
    }
   ],
   "source": [
    "g, sigma = bloq.call_graph(generalizer=ignore_split_join)\n",
    "show_counts_sigma(sigma)"
   ]
  },
  {
   "cell_type": "code",
   "execution_count": 9,
   "metadata": {},
   "outputs": [
    {
     "name": "stdout",
     "output_type": "stream",
     "text": [
      "229576\n"
     ]
    }
   ],
   "source": [
    "ts = t_counts_from_sigma(sigma)\n",
    "print(ts)"
   ]
  }
 ],
 "metadata": {
  "kernelspec": {
   "display_name": "qualtran",
   "language": "python",
   "name": "python3"
  },
  "language_info": {
   "codemirror_mode": {
    "name": "ipython",
    "version": 3
   },
   "file_extension": ".py",
   "mimetype": "text/x-python",
   "name": "python",
   "nbconvert_exporter": "python",
   "pygments_lexer": "ipython3",
   "version": "3.11.2"
  }
 },
 "nbformat": 4,
 "nbformat_minor": 2
}
