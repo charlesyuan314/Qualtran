{
 "cells": [
  {
   "cell_type": "code",
   "execution_count": null,
   "metadata": {},
   "outputs": [],
   "source": [
    "from qualtran.bloqs.basic_gates import Identity as I\n",
    "from qualtran.bloqs.block_encoding import LinearCombination, Product, Unitary\n",
    "import numpy as np\n",
    "from qualtran.bloqs.block_encoding.sparse_matrix import (\n",
    "    ExplicitEntryOracle,\n",
    "    SparseMatrix,\n",
    "    TopLeftRowColumnOracle,\n",
    ")\n",
    "\n",
    "data = np.array([[0.0, 0.25], [1 / 3, 0.467]])\n",
    "row_oracle = col_oracle = TopLeftRowColumnOracle(1)\n",
    "entry_oracle = ExplicitEntryOracle(1, data, entry_bitsize=10)\n",
    "a = SparseMatrix(row_oracle, col_oracle, entry_oracle, eps=0)\n",
    "t_2 = LinearCombination.of_terms((2.0, Product.of(a, a)), (-1.0, Unitary(I())))"
   ]
  },
  {
   "cell_type": "code",
   "execution_count": null,
   "metadata": {},
   "outputs": [],
   "source": [
    "from qualtran import BloqInstance\n",
    "from qualtran._infra.controlled import Controlled\n",
    "from qualtran.bloqs.bookkeeping.auto_partition import AutoPartition\n",
    "from qualtran.bloqs.bookkeeping.partition import Partition\n",
    "from qualtran.bloqs.data_loading.qrom_base import QROMBase\n",
    "from qualtran.bloqs.multiplexers.apply_lth_bloq import ApplyLthBloq\n",
    "from qualtran.bloqs.multiplexers.black_box_select import BlackBoxSelect\n",
    "from qualtran.bloqs.state_preparation.black_box_prepare import BlackBoxPrepare\n",
    "\n",
    "\n",
    "def should_flatten(binst: BloqInstance):\n",
    "    if isinstance(\n",
    "        binst.bloq,\n",
    "        (QROMBase, BlackBoxPrepare, TopLeftRowColumnOracle, ExplicitEntryOracle, Partition),\n",
    "    ):\n",
    "        return False\n",
    "    if isinstance(binst.bloq, (BlackBoxSelect, ApplyLthBloq, AutoPartition)):\n",
    "        return True\n",
    "    if isinstance(binst.bloq, Controlled) and isinstance(\n",
    "        binst.bloq.subbloq, (AutoPartition, Product, SparseMatrix)\n",
    "    ):\n",
    "        return True\n",
    "    return False"
   ]
  },
  {
   "cell_type": "code",
   "execution_count": null,
   "metadata": {},
   "outputs": [],
   "source": [
    "bloq = t_2.decompose_bloq().flatten(should_flatten)"
   ]
  },
  {
   "cell_type": "code",
   "execution_count": null,
   "metadata": {},
   "outputs": [],
   "source": [
    "from qualtran.drawing import show_bloq, PrettyGraphDrawer\n",
    "\n",
    "show_bloq(bloq)"
   ]
  },
  {
   "cell_type": "code",
   "execution_count": null,
   "metadata": {},
   "outputs": [],
   "source": [
    "graph = PrettyGraphDrawer(bloq).get_graph()\n",
    "graph.write_pdf(f\"example.pdf\")"
   ]
  }
 ],
 "metadata": {
  "kernelspec": {
   "display_name": "Python 3 (ipykernel)",
   "language": "python",
   "name": "python3"
  },
  "language_info": {
   "codemirror_mode": {
    "name": "ipython",
    "version": 3
   },
   "file_extension": ".py",
   "mimetype": "text/x-python",
   "name": "python",
   "nbconvert_exporter": "python",
   "pygments_lexer": "ipython3",
   "version": "3.11.2"
  }
 },
 "nbformat": 4,
 "nbformat_minor": 4
}
